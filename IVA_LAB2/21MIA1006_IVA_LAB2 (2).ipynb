{
  "cells": [
    {
      "cell_type": "code",
      "execution_count": 1,
      "metadata": {
        "colab": {
          "base_uri": "https://localhost:8080/",
          "height": 0
        },
        "id": "LZstej7TA-MC",
        "outputId": "b6502b92-8921-4e08-cf18-c7150c697a4e"
      },
      "outputs": [
        {
          "output_type": "stream",
          "name": "stdout",
          "text": [
            "Collecting pyav\n",
            "  Downloading pyav-12.3.0-cp310-cp310-manylinux_2_17_x86_64.manylinux2014_x86_64.whl.metadata (2.5 kB)\n",
            "Downloading pyav-12.3.0-cp310-cp310-manylinux_2_17_x86_64.manylinux2014_x86_64.whl (29.6 MB)\n",
            "\u001b[2K   \u001b[90m━━━━━━━━━━━━━━━━━━━━━━━━━━━━━━━━━━━━━━━━\u001b[0m \u001b[32m29.6/29.6 MB\u001b[0m \u001b[31m9.7 MB/s\u001b[0m eta \u001b[36m0:00:00\u001b[0m\n",
            "\u001b[?25hInstalling collected packages: pyav\n",
            "Successfully installed pyav-12.3.0\n"
          ]
        }
      ],
      "source": [
        "!pip install pyav"
      ]
    },
    {
      "cell_type": "code",
      "source": [
        "!pip install ffmpeg-python"
      ],
      "metadata": {
        "colab": {
          "base_uri": "https://localhost:8080/",
          "height": 0
        },
        "id": "xgIZiBndTn3j",
        "outputId": "af05a547-0083-4f81-cd88-acf5604be8bb"
      },
      "execution_count": 4,
      "outputs": [
        {
          "output_type": "stream",
          "name": "stdout",
          "text": [
            "Collecting ffmpeg-python\n",
            "  Downloading ffmpeg_python-0.2.0-py3-none-any.whl.metadata (1.7 kB)\n",
            "Requirement already satisfied: future in /usr/local/lib/python3.10/dist-packages (from ffmpeg-python) (1.0.0)\n",
            "Downloading ffmpeg_python-0.2.0-py3-none-any.whl (25 kB)\n",
            "Installing collected packages: ffmpeg-python\n",
            "Successfully installed ffmpeg-python-0.2.0\n"
          ]
        }
      ]
    },
    {
      "cell_type": "code",
      "execution_count": 3,
      "metadata": {
        "colab": {
          "base_uri": "https://localhost:8080/",
          "height": 0
        },
        "id": "uD04o_uTA2Vz",
        "outputId": "56fd16df-c2a6-4f49-a027-8d9272f960f3"
      },
      "outputs": [
        {
          "output_type": "stream",
          "name": "stdout",
          "text": [
            "Total frames: 392\n",
            "Frame types: {'I': 5, 'P': 100, 'B': 287}\n"
          ]
        }
      ],
      "source": [
        "import av\n",
        "\n",
        "# Initialize the container and counters\n",
        "container = av.open(\"/content/3150419-uhd_3840_2160_30fps.mp4\")\n",
        "total_frames = 0\n",
        "frame_types = {'I': 0, 'P': 0, 'B': 0}\n",
        "\n",
        "# Iterate through the frames and count them by type\n",
        "for frame in container.decode(video=0):\n",
        "    total_frames += 1\n",
        "    frame_types[frame.pict_type.name] += 1\n",
        "\n",
        "# Close the container\n",
        "container.close()\n",
        "\n",
        "print(f\"Total frames: {total_frames}\")\n",
        "print(f\"Frame types: {frame_types}\")"
      ]
    },
    {
      "cell_type": "code",
      "execution_count": 6,
      "metadata": {
        "colab": {
          "base_uri": "https://localhost:8080/",
          "height": 0
        },
        "id": "0n0X8voaBaTw",
        "outputId": "f36b86e6-029c-4079-ec89-855396ab8694"
      },
      "outputs": [
        {
          "output_type": "stream",
          "name": "stdout",
          "text": [
            "Width: 3840\n",
            "Height: 2160\n",
            "Frame Rate: 29.97002997002997\n",
            "Duration: 13.079733 seconds\n",
            "Total Frames: 392\n"
          ]
        }
      ],
      "source": [
        "import ffmpeg\n",
        "\n",
        "def extract_frames_info(video_path):\n",
        "    try:\n",
        "        probe = ffmpeg.probe(video_path)\n",
        "        video_streams = [stream for stream in probe['streams'] if stream['codec_type'] == 'video']\n",
        "\n",
        "        if not video_streams:\n",
        "            raise ValueError(\"No video stream found\")\n",
        "\n",
        "        video_stream = video_streams[0]\n",
        "\n",
        "        width = video_stream['width']\n",
        "        height = video_stream['height']\n",
        "        frame_rate = eval(video_stream['r_frame_rate'])\n",
        "        duration = float(video_stream['duration'])\n",
        "        total_frames = int(video_stream['nb_frames'])\n",
        "\n",
        "        print(f\"Width: {width}\")\n",
        "        print(f\"Height: {height}\")\n",
        "        print(f\"Frame Rate: {frame_rate}\")\n",
        "        print(f\"Duration: {duration} seconds\")\n",
        "        print(f\"Total Frames: {total_frames}\")\n",
        "\n",
        "        return {\n",
        "            'width': width,\n",
        "            'height': height,\n",
        "            'frame_rate': frame_rate,\n",
        "            'duration': duration,\n",
        "            'total_frames': total_frames\n",
        "        }\n",
        "\n",
        "    except ffmpeg.Error as e:\n",
        "        print(f\"Error occurred: {e.stderr.decode()}\")\n",
        "        return None\n",
        "\n",
        "# Replace 'sample_video.mp4' with the path to your video file\n",
        "video_info = extract_frames_info(\"/content/3150419-uhd_3840_2160_30fps.mp4\")\n"
      ]
    },
    {
      "cell_type": "code",
      "execution_count": 7,
      "metadata": {
        "colab": {
          "base_uri": "https://localhost:8080/",
          "height": 0
        },
        "id": "jodkTPgwBs4r",
        "outputId": "fde38735-0aab-4957-e805-83ba4aae5416"
      },
      "outputs": [
        {
          "output_type": "stream",
          "name": "stdout",
          "text": [
            "\u001b[31mERROR: Could not find a version that satisfies the requirement psubprocess (from versions: none)\u001b[0m\u001b[31m\n",
            "\u001b[0m\u001b[31mERROR: No matching distribution found for psubprocess\u001b[0m\u001b[31m\n",
            "\u001b[0m"
          ]
        }
      ],
      "source": [
        "!pip3 install psubprocess\n"
      ]
    },
    {
      "cell_type": "code",
      "execution_count": 8,
      "metadata": {
        "colab": {
          "base_uri": "https://localhost:8080/",
          "height": 614
        },
        "id": "iSi9dY2UCKbw",
        "outputId": "137ce502-4fb3-4753-d5a2-56a4c3efd4b1"
      },
      "outputs": [
        {
          "output_type": "stream",
          "name": "stdout",
          "text": [
            "Frame Type Distribution:\n",
            "I Frames: Count = 5, Percentage = 1.28%\n",
            "P Frames: Count = 100, Percentage = 25.51%\n",
            "B Frames: Count = 287, Percentage = 73.21%\n"
          ]
        },
        {
          "output_type": "display_data",
          "data": {
            "text/plain": [
              "<Figure size 1200x600 with 2 Axes>"
            ],
            "image/png": "[encoded data removed]"
          },
          "metadata": {}
        }
      ],
      "source": [
        "import av\n",
        "import matplotlib.pyplot as plt\n",
        "\n",
        "def analyze_frame_types(video_path):\n",
        "    # Initialize counters\n",
        "    total_frames = 0\n",
        "    frame_types = {'I': 0, 'P': 0, 'B': 0}\n",
        "\n",
        "    # Open the video container\n",
        "    container = av.open(video_path)\n",
        "\n",
        "    # Iterate through frames in the video\n",
        "    for frame in container.decode(video=0):\n",
        "        total_frames += 1\n",
        "        frame_types[frame.pict_type.name] += 1\n",
        "\n",
        "    return frame_types, total_frames\n",
        "\n",
        "def plot_frame_distribution(frame_counts, total_frames):\n",
        "    frame_types = ['I Frames', 'P Frames', 'B Frames']\n",
        "    counts = [frame_counts.get('I', 0), frame_counts.get('P', 0), frame_counts.get('B', 0)]\n",
        "\n",
        "    # Check if total frames is greater than zero to plot\n",
        "    if total_frames > 0:\n",
        "        percentages = [(count / total_frames) * 100 for count in counts]\n",
        "\n",
        "        # Print counts and percentages for each frame type\n",
        "        print(\"Frame Type Distribution:\")\n",
        "        for frame_type, count, percentage in zip(frame_types, counts, percentages):\n",
        "            print(f\"{frame_type}: Count = {count}, Percentage = {percentage:.2f}%\")\n",
        "\n",
        "        # Bar graph\n",
        "        plt.figure(figsize=(12, 6))\n",
        "        plt.subplot(1, 2, 1)\n",
        "        plt.bar(frame_types, counts, color=['blue', 'orange', 'green'])\n",
        "        plt.title('Frame Type Count')\n",
        "        plt.ylabel('Number of Frames')\n",
        "\n",
        "        # Pie chart\n",
        "        plt.subplot(1, 2, 2)\n",
        "        plt.pie(percentages, labels=frame_types, autopct='%1.1f%%', startangle=90)\n",
        "        plt.title('Frame Type Distribution')\n",
        "\n",
        "        plt.show()\n",
        "    else:\n",
        "        print(\"No frames found in the video.\")\n",
        "\n",
        "def main(video_path):\n",
        "    frame_counts, total_frames = analyze_frame_types(video_path)\n",
        "    plot_frame_distribution(frame_counts, total_frames)\n",
        "\n",
        "# Replace 'your_video.mp4' with the path to your video file\n",
        "if __name__ == \"__main__\":\n",
        "    video_path = \"/content/3150419-uhd_3840_2160_30fps.mp4\"  # Update with your video path\n",
        "    main(video_path)\n"
      ]
    },
    {
      "cell_type": "code",
      "execution_count": 9,
      "metadata": {
        "colab": {
          "base_uri": "https://localhost:8080/",
          "height": 0
        },
        "id": "ceNIfondEBka",
        "outputId": "d20ffcee-23ac-4c3d-9679-95910c62450a"
      },
      "outputs": [
        {
          "output_type": "stream",
          "name": "stdout",
          "text": [
            "Requirement already satisfied: Pillow in /usr/local/lib/python3.10/dist-packages (9.4.0)\n"
          ]
        }
      ],
      "source": [
        "!pip install Pillow\n"
      ]
    },
    {
      "cell_type": "code",
      "execution_count": 10,
      "metadata": {
        "colab": {
          "base_uri": "https://localhost:8080/",
          "height": 0
        },
        "id": "DEUlYsHGEDfS",
        "outputId": "ceb2c31a-5108-4db9-b292-3ca9290d6475"
      },
      "outputs": [
        {
          "output_type": "stream",
          "name": "stdout",
          "text": [
            "Displaying I Frames:\n",
            "Displaying P Frames:\n",
            "Displaying B Frames:\n"
          ]
        }
      ],
      "source": [
        "from PIL import Image\n",
        "import os\n",
        "\n",
        "def display_frames(frame_type):\n",
        "    # Get a list of all extracted frames\n",
        "    frame_files = sorted([f for f in os.listdir() if f.startswith(frame_type) and f.endswith('.png')])\n",
        "\n",
        "    for frame_file in frame_files:\n",
        "        # Open the image file\n",
        "        with Image.open(frame_file) as img:\n",
        "            img.show()  # Display the image\n",
        "            input(\"Press Enter to continue to the next frame...\")  # Wait for user input\n",
        "\n",
        "def main():\n",
        "    # Display I frames\n",
        "    print(\"Displaying I Frames:\")\n",
        "    display_frames('i_frame_')\n",
        "\n",
        "    # Display P frames\n",
        "    print(\"Displaying P Frames:\")\n",
        "    display_frames('p_frame_')\n",
        "\n",
        "    # Display B frames\n",
        "    print(\"Displaying B Frames:\")\n",
        "    display_frames('b_frame_')\n",
        "\n",
        "if __name__ == \"__main__\":\n",
        "    main()\n"
      ]
    },
    {
      "cell_type": "code",
      "execution_count": null,
      "metadata": {
        "id": "6tJyfmbpInNd"
      },
      "outputs": [],
      "source": [
        "import av\n",
        "import cv2\n",
        "import numpy as np\n",
        "import matplotlib.pyplot as plt\n",
        "from google.colab.patches import cv2_imshow\n",
        "\n",
        "# Open the video file\n",
        "container = av.open(\"/content/3150419-uhd_3840_2160_30fps.mp4\")\n",
        "\n",
        "# Initialize counters for each frame type\n",
        "frame_counts = {'I': 0, 'P': 0, 'B': 0}\n",
        "\n",
        "# Initialize dictionaries to store frames\n",
        "frames_to_display = {'I': [], 'P': [], 'B': []}\n",
        "\n",
        "# Loop through frames in the video\n",
        "for frame in container.decode(video=0):\n",
        "    # Get the frame type\n",
        "    frame_type = frame.pict_type.name\n",
        "\n",
        "    # Check if we already have 2 frames of this type\n",
        "    if frame_counts[frame_type] < 2:\n",
        "        # Convert frame to a numpy array (OpenCV image)\n",
        "        frame_image = frame.to_image()\n",
        "        frame_array = np.array(frame_image)\n",
        "\n",
        "        # Store the frame\n",
        "        frames_to_display[frame_type].append(frame_array)\n",
        "\n",
        "        # Update the count for this frame type\n",
        "        frame_counts[frame_type] += 1\n",
        "\n",
        "    # Check if we have collected enough frames of all types\n",
        "    if all(count >= 2 for count in frame_counts.values()):\n",
        "        break\n",
        "\n",
        "# Function to display frames using OpenCV\n",
        "def display_frames(frames, frame_type):\n",
        "    for i, frame in enumerate(frames):\n",
        "        # Convert RGB to BGR for OpenCV\n",
        "        frame_bgr = cv2.cvtColor(frame, cv2.COLOR_RGB2BGR)\n",
        "\n",
        "        # Display the frame\n",
        "        cv2_imshow(frame_bgr)\n",
        "        cv2.waitKey(0)\n",
        "        cv2.destroyAllWindows()\n",
        "\n",
        "# Display the frames\n",
        "for frame_type in ['I', 'P', 'B']:\n",
        "    display_frames(frames_to_display[frame_type], frame_type)\n"
      ]
    },
    {
      "cell_type": "code",
      "source": [
        "# Extract I frames\n",
        "!ffmpeg -i 3150419-uhd_3840_2160_30fps.mp4 -vf \"select='eq(pict_type\\,I)'\" -vsync vfr -frame_pts true I_frame_%04d.png\n",
        "\n",
        "# Extract P frames\n",
        "!ffmpeg -i 3150419-uhd_3840_2160_30fps.mp4 -vf \"select='eq(pict_type\\,P)'\" -vsync vfr -frame_pts true P_frame_%04d.png\n",
        "\n",
        "# Extract B frames\n",
        "!ffmpeg -i 3150419-uhd_3840_2160_30fps.mp4 -vf \"select='eq(pict_type\\,B)'\" -vsync vfr -frame_pts true B_frame_%04d.png\n"
      ],
      "metadata": {
        "colab": {
          "base_uri": "https://localhost:8080/",
          "height": 0
        },
        "id": "jOz9O_2kLtQj",
        "outputId": "4f3e47b2-78d0-463e-bc23-c710168ee931"
      },
      "execution_count": 15,
      "outputs": [
        {
          "output_type": "stream",
          "name": "stdout",
          "text": [
            "ffmpeg version 4.4.2-0ubuntu0.22.04.1 Copyright (c) 2000-2021 the FFmpeg developers\n",
            "  built with gcc 11 (Ubuntu 11.2.0-19ubuntu1)\n",
            "  configuration: --prefix=/usr --extra-version=0ubuntu0.22.04.1 --toolchain=hardened --libdir=/usr/lib/x86_64-linux-gnu --incdir=/usr/include/x86_64-linux-gnu --arch=amd64 --enable-gpl --disable-stripping --enable-gnutls --enable-ladspa --enable-libaom --enable-libass --enable-libbluray --enable-libbs2b --enable-libcaca --enable-libcdio --enable-libcodec2 --enable-libdav1d --enable-libflite --enable-libfontconfig --enable-libfreetype --enable-libfribidi --enable-libgme --enable-libgsm --enable-libjack --enable-libmp3lame --enable-libmysofa --enable-libopenjpeg --enable-libopenmpt --enable-libopus --enable-libpulse --enable-librabbitmq --enable-librubberband --enable-libshine --enable-libsnappy --enable-libsoxr --enable-libspeex --enable-libsrt --enable-libssh --enable-libtheora --enable-libtwolame --enable-libvidstab --enable-libvorbis --enable-libvpx --enable-libwebp --enable-libx265 --enable-libxml2 --enable-libxvid --enable-libzimg --enable-libzmq --enable-libzvbi --enable-lv2 --enable-omx --enable-openal --enable-opencl --enable-opengl --enable-sdl2 --enable-pocketsphinx --enable-librsvg --enable-libmfx --enable-libdc1394 --enable-libdrm --enable-libiec61883 --enable-chromaprint --enable-frei0r --enable-libx264 --enable-shared\n",
            "  libavutil      56. 70.100 / 56. 70.100\n",
            "  libavcodec     58.134.100 / 58.134.100\n",
            "  libavformat    58. 76.100 / 58. 76.100\n",
            "  libavdevice    58. 13.100 / 58. 13.100\n",
            "  libavfilter     7.110.100 /  7.110.100\n",
            "  libswscale      5.  9.100 /  5.  9.100\n",
            "  libswresample   3.  9.100 /  3.  9.100\n",
            "  libpostproc    55.  9.100 / 55.  9.100\n",
            "Input #0, mov,mp4,m4a,3gp,3g2,mj2, from '3150419-uhd_3840_2160_30fps.mp4':\n",
            "  Metadata:\n",
            "    major_brand     : mp42\n",
            "    minor_version   : 0\n",
            "    compatible_brands: mp42mp41isomavc1\n",
            "    creation_time   : 2019-10-30T14:20:33.000000Z\n",
            "  Duration: 00:00:13.08, start: 0.000000, bitrate: 21310 kb/s\n",
            "  Stream #0:0(und): Video: h264 (High) (avc1 / 0x31637661), yuv420p(tv, bt709), 3840x2160, 21306 kb/s, 29.97 fps, 29.97 tbr, 30k tbn, 60k tbc (default)\n",
            "    Metadata:\n",
            "      creation_time   : 2019-10-30T14:20:33.000000Z\n",
            "      handler_name    : L-SMASH Video Handler\n",
            "      vendor_id       : [0][0][0][0]\n",
            "      encoder         : AVC Coding\n",
            "Stream mapping:\n",
            "  Stream #0:0 -> #0:0 (h264 (native) -> png (native))\n",
            "Press [q] to stop, [?] for help\n",
            "Output #0, image2, to 'I_frame_%04d.png':\n",
            "  Metadata:\n",
            "    major_brand     : mp42\n",
            "    minor_version   : 0\n",
            "    compatible_brands: mp42mp41isomavc1\n",
            "    encoder         : Lavf58.76.100\n",
            "  Stream #0:0(und): Video: png, rgb24(pc, gbr/bt709/bt709, progressive), 3840x2160, q=2-31, 200 kb/s, 29.97 fps, 29.97 tbn (default)\n",
            "    Metadata:\n",
            "      creation_time   : 2019-10-30T14:20:33.000000Z\n",
            "      handler_name    : L-SMASH Video Handler\n",
            "      vendor_id       : [0][0][0][0]\n",
            "      encoder         : Lavc58.134.100 png\n",
            "frame=    5 fps=0.2 q=-0.0 Lsize=N/A time=00:00:12.04 bitrate=N/A speed=0.544x    \n",
            "video:31125kB audio:0kB subtitle:0kB other streams:0kB global headers:0kB muxing overhead: unknown\n",
            "ffmpeg version 4.4.2-0ubuntu0.22.04.1 Copyright (c) 2000-2021 the FFmpeg developers\n",
            "  built with gcc 11 (Ubuntu 11.2.0-19ubuntu1)\n",
            "  configuration: --prefix=/usr --extra-version=0ubuntu0.22.04.1 --toolchain=hardened --libdir=/usr/lib/x86_64-linux-gnu --incdir=/usr/include/x86_64-linux-gnu --arch=amd64 --enable-gpl --disable-stripping --enable-gnutls --enable-ladspa --enable-libaom --enable-libass --enable-libbluray --enable-libbs2b --enable-libcaca --enable-libcdio --enable-libcodec2 --enable-libdav1d --enable-libflite --enable-libfontconfig --enable-libfreetype --enable-libfribidi --enable-libgme --enable-libgsm --enable-libjack --enable-libmp3lame --enable-libmysofa --enable-libopenjpeg --enable-libopenmpt --enable-libopus --enable-libpulse --enable-librabbitmq --enable-librubberband --enable-libshine --enable-libsnappy --enable-libsoxr --enable-libspeex --enable-libsrt --enable-libssh --enable-libtheora --enable-libtwolame --enable-libvidstab --enable-libvorbis --enable-libvpx --enable-libwebp --enable-libx265 --enable-libxml2 --enable-libxvid --enable-libzimg --enable-libzmq --enable-libzvbi --enable-lv2 --enable-omx --enable-openal --enable-opencl --enable-opengl --enable-sdl2 --enable-pocketsphinx --enable-librsvg --enable-libmfx --enable-libdc1394 --enable-libdrm --enable-libiec61883 --enable-chromaprint --enable-frei0r --enable-libx264 --enable-shared\n",
            "  libavutil      56. 70.100 / 56. 70.100\n",
            "  libavcodec     58.134.100 / 58.134.100\n",
            "  libavformat    58. 76.100 / 58. 76.100\n",
            "  libavdevice    58. 13.100 / 58. 13.100\n",
            "  libavfilter     7.110.100 /  7.110.100\n",
            "  libswscale      5.  9.100 /  5.  9.100\n",
            "  libswresample   3.  9.100 /  3.  9.100\n",
            "  libpostproc    55.  9.100 / 55.  9.100\n",
            "Input #0, mov,mp4,m4a,3gp,3g2,mj2, from '3150419-uhd_3840_2160_30fps.mp4':\n",
            "  Metadata:\n",
            "    major_brand     : mp42\n",
            "    minor_version   : 0\n",
            "    compatible_brands: mp42mp41isomavc1\n",
            "    creation_time   : 2019-10-30T14:20:33.000000Z\n",
            "  Duration: 00:00:13.08, start: 0.000000, bitrate: 21310 kb/s\n",
            "  Stream #0:0(und): Video: h264 (High) (avc1 / 0x31637661), yuv420p(tv, bt709), 3840x2160, 21306 kb/s, 29.97 fps, 29.97 tbr, 30k tbn, 60k tbc (default)\n",
            "    Metadata:\n",
            "      creation_time   : 2019-10-30T14:20:33.000000Z\n",
            "      handler_name    : L-SMASH Video Handler\n",
            "      vendor_id       : [0][0][0][0]\n",
            "      encoder         : AVC Coding\n",
            "Stream mapping:\n",
            "  Stream #0:0 -> #0:0 (h264 (native) -> png (native))\n",
            "Press [q] to stop, [?] for help\n",
            "Output #0, image2, to 'P_frame_%04d.png':\n",
            "  Metadata:\n",
            "    major_brand     : mp42\n",
            "    minor_version   : 0\n",
            "    compatible_brands: mp42mp41isomavc1\n",
            "    encoder         : Lavf58.76.100\n",
            "  Stream #0:0(und): Video: png, rgb24(pc, gbr/bt709/bt709, progressive), 3840x2160, q=2-31, 200 kb/s, 29.97 fps, 29.97 tbn (default)\n",
            "    Metadata:\n",
            "      creation_time   : 2019-10-30T14:20:33.000000Z\n",
            "      handler_name    : L-SMASH Video Handler\n",
            "      vendor_id       : [0][0][0][0]\n",
            "      encoder         : Lavc58.134.100 png\n",
            "frame=  100 fps=1.1 q=-0.0 Lsize=N/A time=00:00:13.07 bitrate=N/A speed=0.15x    \n",
            "video:631915kB audio:0kB subtitle:0kB other streams:0kB global headers:0kB muxing overhead: unknown\n",
            "ffmpeg version 4.4.2-0ubuntu0.22.04.1 Copyright (c) 2000-2021 the FFmpeg developers\n",
            "  built with gcc 11 (Ubuntu 11.2.0-19ubuntu1)\n",
            "  configuration: --prefix=/usr --extra-version=0ubuntu0.22.04.1 --toolchain=hardened --libdir=/usr/lib/x86_64-linux-gnu --incdir=/usr/include/x86_64-linux-gnu --arch=amd64 --enable-gpl --disable-stripping --enable-gnutls --enable-ladspa --enable-libaom --enable-libass --enable-libbluray --enable-libbs2b --enable-libcaca --enable-libcdio --enable-libcodec2 --enable-libdav1d --enable-libflite --enable-libfontconfig --enable-libfreetype --enable-libfribidi --enable-libgme --enable-libgsm --enable-libjack --enable-libmp3lame --enable-libmysofa --enable-libopenjpeg --enable-libopenmpt --enable-libopus --enable-libpulse --enable-librabbitmq --enable-librubberband --enable-libshine --enable-libsnappy --enable-libsoxr --enable-libspeex --enable-libsrt --enable-libssh --enable-libtheora --enable-libtwolame --enable-libvidstab --enable-libvorbis --enable-libvpx --enable-libwebp --enable-libx265 --enable-libxml2 --enable-libxvid --enable-libzimg --enable-libzmq --enable-libzvbi --enable-lv2 --enable-omx --enable-openal --enable-opencl --enable-opengl --enable-sdl2 --enable-pocketsphinx --enable-librsvg --enable-libmfx --enable-libdc1394 --enable-libdrm --enable-libiec61883 --enable-chromaprint --enable-frei0r --enable-libx264 --enable-shared\n",
            "  libavutil      56. 70.100 / 56. 70.100\n",
            "  libavcodec     58.134.100 / 58.134.100\n",
            "  libavformat    58. 76.100 / 58. 76.100\n",
            "  libavdevice    58. 13.100 / 58. 13.100\n",
            "  libavfilter     7.110.100 /  7.110.100\n",
            "  libswscale      5.  9.100 /  5.  9.100\n",
            "  libswresample   3.  9.100 /  3.  9.100\n",
            "  libpostproc    55.  9.100 / 55.  9.100\n",
            "Input #0, mov,mp4,m4a,3gp,3g2,mj2, from '3150419-uhd_3840_2160_30fps.mp4':\n",
            "  Metadata:\n",
            "    major_brand     : mp42\n",
            "    minor_version   : 0\n",
            "    compatible_brands: mp42mp41isomavc1\n",
            "    creation_time   : 2019-10-30T14:20:33.000000Z\n",
            "  Duration: 00:00:13.08, start: 0.000000, bitrate: 21310 kb/s\n",
            "  Stream #0:0(und): Video: h264 (High) (avc1 / 0x31637661), yuv420p(tv, bt709), 3840x2160, 21306 kb/s, 29.97 fps, 29.97 tbr, 30k tbn, 60k tbc (default)\n",
            "    Metadata:\n",
            "      creation_time   : 2019-10-30T14:20:33.000000Z\n",
            "      handler_name    : L-SMASH Video Handler\n",
            "      vendor_id       : [0][0][0][0]\n",
            "      encoder         : AVC Coding\n",
            "Stream mapping:\n",
            "  Stream #0:0 -> #0:0 (h264 (native) -> png (native))\n",
            "Press [q] to stop, [?] for help\n",
            "Output #0, image2, to 'B_frame_%04d.png':\n",
            "  Metadata:\n",
            "    major_brand     : mp42\n",
            "    minor_version   : 0\n",
            "    compatible_brands: mp42mp41isomavc1\n",
            "    encoder         : Lavf58.76.100\n",
            "  Stream #0:0(und): Video: png, rgb24(pc, gbr/bt709/bt709, progressive), 3840x2160, q=2-31, 200 kb/s, 29.97 fps, 29.97 tbn (default)\n",
            "    Metadata:\n",
            "      creation_time   : 2019-10-30T14:20:33.000000Z\n",
            "      handler_name    : L-SMASH Video Handler\n",
            "      vendor_id       : [0][0][0][0]\n",
            "      encoder         : Lavc58.134.100 png\n",
            "frame=  287 fps=1.3 q=-0.0 Lsize=N/A time=00:00:13.04 bitrate=N/A speed=0.0596x    \n",
            "video:1860680kB audio:0kB subtitle:0kB other streams:0kB global headers:0kB muxing overhead: unknown\n"
          ]
        }
      ]
    },
    {
      "cell_type": "code",
      "source": [
        "import os\n",
        "import glob\n",
        "\n",
        "def calculate_average_frame_size(frame_type):\n",
        "    frame_files = glob.glob(f'{frame_type}_frame_*.png')\n",
        "    total_size = sum(os.path.getsize(frame) for frame in frame_files)\n",
        "    average_size = total_size / len(frame_files) if frame_files else 0\n",
        "    print(f\"Total size of all {frame_type} frames: {total_size} KB\")\n",
        "    return average_size\n",
        "\n",
        "average_size_I = calculate_average_frame_size('I')\n",
        "average_size_P = calculate_average_frame_size('P')\n",
        "average_size_B = calculate_average_frame_size('B')\n",
        "\n",
        "print(f\"Average size of I frames: {average_size_I / 1024:.2f} KB\")\n",
        "print(f\"Average size of P frames: {average_size_P / 1024:.2f} KB\")\n",
        "print(f\"Average size of B frames: {average_size_B / 1024:.2f} KB\")\n",
        "\n"
      ],
      "metadata": {
        "colab": {
          "base_uri": "https://localhost:8080/",
          "height": 0
        },
        "id": "d-pRD1v-Ldy6",
        "outputId": "d4600b6c-dca5-4e88-e573-ea69a63abf4e"
      },
      "execution_count": 16,
      "outputs": [
        {
          "output_type": "stream",
          "name": "stdout",
          "text": [
            "Total size of all I frames: 31871826 KB\n",
            "Total size of all P frames: 647080877 KB\n",
            "Total size of all B frames: 1905336815 KB\n",
            "Average size of I frames: 6224.97 KB\n",
            "Average size of P frames: 6319.15 KB\n",
            "Average size of B frames: 6483.21 KB\n"
          ]
        }
      ]
    },
    {
      "cell_type": "code",
      "source": [
        "import os\n",
        "import glob\n",
        "import subprocess\n",
        "\n",
        "def extract_frames(video_path, frame_type):\n",
        "    frame_pattern = f'{frame_type}_frame_%04d.png'\n",
        "    if frame_type == 'I':\n",
        "        subprocess.run(['ffmpeg', '-i', video_path, '-vf', \"select='eq(pict_type,I)'\", '-vsync', 'vfr', '-frame_pts', 'true', frame_pattern])\n",
        "    elif frame_type == 'P':\n",
        "        subprocess.run(['ffmpeg', '-i', video_path, '-vf', \"select='eq(pict_type,P)'\", '-vsync', 'vfr', '-frame_pts', 'true', frame_pattern])\n",
        "    elif frame_type == 'B':\n",
        "        subprocess.run(['ffmpeg', '-i', video_path, '-vf', \"select='eq(pict_type,B)'\", '-vsync', 'vfr', '-frame_pts', 'true', frame_pattern])\n",
        "\n",
        "def calculate_average_frame_size(frame_type):\n",
        "    frame_files = glob.glob(f'{frame_type}_frame_*.png')\n",
        "    total_size = sum(os.path.getsize(frame) for frame in frame_files)\n",
        "    average_size = total_size / len(frame_files) if frame_files else 0\n",
        "    return average_size\n",
        "\n",
        "video_path = \"3150419-uhd_3840_2160_30fps.mp4\"\n",
        "extract_frames(video_path, 'I')\n",
        "extract_frames(video_path, 'P')\n",
        "extract_frames(video_path, 'B')\n",
        "\n",
        "average_size_I = calculate_average_frame_size('I')\n",
        "average_size_P = calculate_average_frame_size('P')\n",
        "average_size_B = calculate_average_frame_size('B')\n",
        "\n",
        "print(f\"Average size of I frames: {average_size_I / 1024:.2f} KB\")\n",
        "print(f\"Average size of P frames: {average_size_P / 1024:.2f} KB\")\n",
        "print(f\"Average size of B frames: {average_size_B / 1024:.2f} KB\")\n",
        "\n"
      ],
      "metadata": {
        "colab": {
          "base_uri": "https://localhost:8080/",
          "height": 0
        },
        "id": "HQH9QaJZOZYm",
        "outputId": "cfff4592-2e85-4f58-cb9c-f8bbff46518b"
      },
      "execution_count": 18,
      "outputs": [
        {
          "output_type": "stream",
          "name": "stdout",
          "text": [
            "Average size of I frames: 6224.97 KB\n",
            "Average size of P frames: 6319.15 KB\n",
            "Average size of B frames: 6483.21 KB\n"
          ]
        }
      ]
    },
    {
      "cell_type": "code",
      "source": [
        "import subprocess\n",
        "import os\n",
        "\n",
        "def extract_i_frames(video_path, output_dir):\n",
        "    try:\n",
        "        # Ensure the output directory exists\n",
        "        os.makedirs(output_dir, exist_ok=True)\n",
        "\n",
        "        # Define the ffmpeg command to extract I-frames\n",
        "        cmd = [\n",
        "            'ffmpeg',\n",
        "            '-i', video_path,\n",
        "            '-vf', 'select=eq(pict_type\\\\,I)',\n",
        "            '-vsync', 'vfr',\n",
        "            f'{output_dir}/frame_%04d.png'\n",
        "        ]\n",
        "\n",
        "        # Run the command\n",
        "        subprocess.run(cmd, stdout=subprocess.PIPE, stderr=subprocess.PIPE, text=True)\n",
        "        print(f\"I-frames extracted successfully to {output_dir}\")\n",
        "\n",
        "    except Exception as e:\n",
        "        print(f\"Error extracting I-frames: {str(e)}\")\n",
        "\n",
        "# Example usage\n",
        "video_path = \"3150419-uhd_3840_2160_30fps.mp4\"  # Replace with the correct path\n",
        "i_frames_dir = 'I_frames'  # Directory to save I-frames\n",
        "\n",
        "extract_i_frames(video_path, i_frames_dir)\n",
        "\n",
        "\n",
        "def reconstruct_video_from_i_frames(i_frames_dir, output_video_path, frame_rate=1):\n",
        "    try:\n",
        "        # Define the ffmpeg command to reconstruct the video\n",
        "        cmd = [\n",
        "            'ffmpeg',\n",
        "            '-framerate', str(frame_rate),  # Set the frame rate\n",
        "            '-i', os.path.join(i_frames_dir, 'frame_%04d.png'),\n",
        "            '-c:v', 'libx264',  # Use H.264 codec\n",
        "            '-pix_fmt', 'yuv420p',\n",
        "            output_video_path\n",
        "        ]\n",
        "\n",
        "        # Run the command\n",
        "        subprocess.run(cmd, stdout=subprocess.PIPE, stderr=subprocess.PIPE, text=True)\n",
        "        print(f\"Video reconstructed successfully and saved to {output_video_path}\")\n",
        "\n",
        "    except Exception as e:\n",
        "        print(f\"Error reconstructing video: {str(e)}\")\n",
        "\n",
        "# Example usage\n",
        "output_video_path = 'reconstruct_video.mp4'  # Path to save the reconstructed video\n",
        "reconstruct_video_from_i_frames(i_frames_dir, output_video_path,frame_rate=1)"
      ],
      "metadata": {
        "colab": {
          "base_uri": "https://localhost:8080/",
          "height": 0
        },
        "id": "KCDotL-pcubG",
        "outputId": "18698afd-970a-4a46-ae57-3b63ad98c0e8"
      },
      "execution_count": 20,
      "outputs": [
        {
          "output_type": "stream",
          "name": "stdout",
          "text": [
            "I-frames extracted successfully to I_frames\n",
            "Video reconstructed successfully and saved to reconstruct_video.mp4\n"
          ]
        }
      ]
    },
    {
      "cell_type": "code",
      "source": [
        "from IPython.display import Video\n",
        "\n",
        "# Display the reconstructed video\n",
        "Video('reconstruct_video.mp4', embed=True)"
      ],
      "metadata": {
        "id": "cDTuFKY2eOXt"
      },
      "execution_count": null,
      "outputs": []
    }
  ],
  "metadata": {
    "colab": {
      "provenance": []
    },
    "kernelspec": {
      "display_name": "Python 3",
      "name": "python3"
    },
    "language_info": {
      "name": "python"
    }
  },
  "nbformat": 4,
  "nbformat_minor": 0
}